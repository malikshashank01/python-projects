{
 "cells": [
  {
   "cell_type": "code",
   "execution_count": 1,
   "id": "f4c8f56e",
   "metadata": {},
   "outputs": [],
   "source": [
    "# import necessary modules\n",
    "import pandas as pd #data processing\n",
    "import numpy as np #linear algebra"
   ]
  },
  {
   "cell_type": "code",
   "execution_count": 2,
   "id": "5fb5d198",
   "metadata": {},
   "outputs": [],
   "source": [
    "# import data and creating a dataframe\n",
    "data =pd.read_csv(\"S:\\datasets\\HyderabadResturants.csv\")"
   ]
  },
  {
   "cell_type": "code",
   "execution_count": 3,
   "id": "75d61664",
   "metadata": {},
   "outputs": [
    {
     "data": {
      "text/html": [
       "<style type=\"text/css\">\n",
       "#T_21c6f_row0_col0, #T_21c6f_row0_col1, #T_21c6f_row0_col2, #T_21c6f_row0_col3, #T_21c6f_row0_col4, #T_21c6f_row1_col0, #T_21c6f_row1_col1, #T_21c6f_row1_col2, #T_21c6f_row1_col3, #T_21c6f_row1_col4, #T_21c6f_row2_col0, #T_21c6f_row2_col1, #T_21c6f_row2_col2, #T_21c6f_row2_col3, #T_21c6f_row2_col4, #T_21c6f_row3_col0, #T_21c6f_row3_col1, #T_21c6f_row3_col2, #T_21c6f_row3_col3, #T_21c6f_row3_col4, #T_21c6f_row4_col0, #T_21c6f_row4_col1, #T_21c6f_row4_col2, #T_21c6f_row4_col3, #T_21c6f_row4_col4 {\n",
       "  background-color: black;\n",
       "  color: lawngreen;\n",
       "  border-color: white;\n",
       "}\n",
       "</style>\n",
       "<table id=\"T_21c6f\">\n",
       "  <thead>\n",
       "    <tr>\n",
       "      <th class=\"blank level0\" >&nbsp;</th>\n",
       "      <th id=\"T_21c6f_level0_col0\" class=\"col_heading level0 col0\" >links</th>\n",
       "      <th id=\"T_21c6f_level0_col1\" class=\"col_heading level0 col1\" >names</th>\n",
       "      <th id=\"T_21c6f_level0_col2\" class=\"col_heading level0 col2\" >ratings</th>\n",
       "      <th id=\"T_21c6f_level0_col3\" class=\"col_heading level0 col3\" >cuisine</th>\n",
       "      <th id=\"T_21c6f_level0_col4\" class=\"col_heading level0 col4\" >price for one</th>\n",
       "    </tr>\n",
       "  </thead>\n",
       "  <tbody>\n",
       "    <tr>\n",
       "      <th id=\"T_21c6f_level0_row0\" class=\"row_heading level0 row0\" >0</th>\n",
       "      <td id=\"T_21c6f_row0_col0\" class=\"data row0 col0\" >https://www.zomato.com/hyderabad/sahara-bakers-rtc-x-roads/order</td>\n",
       "      <td id=\"T_21c6f_row0_col1\" class=\"data row0 col1\" >Sahara Bakers</td>\n",
       "      <td id=\"T_21c6f_row0_col2\" class=\"data row0 col2\" >3.7</td>\n",
       "      <td id=\"T_21c6f_row0_col3\" class=\"data row0 col3\" >Chinese, Bakery, Sichuan, Pizza, Burger</td>\n",
       "      <td id=\"T_21c6f_row0_col4\" class=\"data row0 col4\" >100</td>\n",
       "    </tr>\n",
       "    <tr>\n",
       "      <th id=\"T_21c6f_level0_row1\" class=\"row_heading level0 row1\" >1</th>\n",
       "      <td id=\"T_21c6f_row1_col0\" class=\"data row1 col0\" >https://www.zomato.com/hyderabad/kfc-abids/order</td>\n",
       "      <td id=\"T_21c6f_row1_col1\" class=\"data row1 col1\" >KFC</td>\n",
       "      <td id=\"T_21c6f_row1_col2\" class=\"data row1 col2\" >3.9</td>\n",
       "      <td id=\"T_21c6f_row1_col3\" class=\"data row1 col3\" >Burger, Fast Food, Biryani, Desserts, Beverages</td>\n",
       "      <td id=\"T_21c6f_row1_col4\" class=\"data row1 col4\" >100</td>\n",
       "    </tr>\n",
       "    <tr>\n",
       "      <th id=\"T_21c6f_level0_row2\" class=\"row_heading level0 row2\" >2</th>\n",
       "      <td id=\"T_21c6f_row2_col0\" class=\"data row2 col0\" >https://www.zomato.com/hyderabad/subbaiah-gari-hotel-malakpet/order</td>\n",
       "      <td id=\"T_21c6f_row2_col1\" class=\"data row2 col1\" >Subbaiah Gari Hotel</td>\n",
       "      <td id=\"T_21c6f_row2_col2\" class=\"data row2 col2\" >4.1</td>\n",
       "      <td id=\"T_21c6f_row2_col3\" class=\"data row2 col3\" >South Indian, Andhra, Mithai</td>\n",
       "      <td id=\"T_21c6f_row2_col4\" class=\"data row2 col4\" >100</td>\n",
       "    </tr>\n",
       "    <tr>\n",
       "      <th id=\"T_21c6f_level0_row3\" class=\"row_heading level0 row3\" >3</th>\n",
       "      <td id=\"T_21c6f_row3_col0\" class=\"data row3 col0\" >https://www.zomato.com/hyderabad/paradise-biryani-1-charminar/order</td>\n",
       "      <td id=\"T_21c6f_row3_col1\" class=\"data row3 col1\" >Paradise Biryani</td>\n",
       "      <td id=\"T_21c6f_row3_col2\" class=\"data row3 col2\" >3.9</td>\n",
       "      <td id=\"T_21c6f_row3_col3\" class=\"data row3 col3\" >Biryani, Kebab, Desserts, Beverages</td>\n",
       "      <td id=\"T_21c6f_row3_col4\" class=\"data row3 col4\" >100</td>\n",
       "    </tr>\n",
       "    <tr>\n",
       "      <th id=\"T_21c6f_level0_row4\" class=\"row_heading level0 row4\" >4</th>\n",
       "      <td id=\"T_21c6f_row4_col0\" class=\"data row4 col0\" >https://www.zomato.com/hyderabad/pista-house-bakery-ghansi-bazaar/order</td>\n",
       "      <td id=\"T_21c6f_row4_col1\" class=\"data row4 col1\" >Pista House Bakery</td>\n",
       "      <td id=\"T_21c6f_row4_col2\" class=\"data row4 col2\" >4.3</td>\n",
       "      <td id=\"T_21c6f_row4_col3\" class=\"data row4 col3\" >Fast Food, Sandwich, Pizza, Burger, Wraps, Rolls, Salad, Desserts</td>\n",
       "      <td id=\"T_21c6f_row4_col4\" class=\"data row4 col4\" >100</td>\n",
       "    </tr>\n",
       "  </tbody>\n",
       "</table>\n"
      ],
      "text/plain": [
       "<pandas.io.formats.style.Styler at 0x15e2e96e400>"
      ]
     },
     "execution_count": 3,
     "metadata": {},
     "output_type": "execute_result"
    }
   ],
   "source": [
    "data.head().style.set_properties(**{'background-color':'black','color':'lawngreen','border-color':'white'})"
   ]
  },
  {
   "cell_type": "code",
   "execution_count": 4,
   "id": "5c828346",
   "metadata": {},
   "outputs": [
    {
     "data": {
      "text/plain": [
       "(657, 5)"
      ]
     },
     "execution_count": 4,
     "metadata": {},
     "output_type": "execute_result"
    }
   ],
   "source": [
    "# rows and columns\n",
    "data.shape"
   ]
  },
  {
   "cell_type": "code",
   "execution_count": 5,
   "id": "dcff1406",
   "metadata": {},
   "outputs": [
    {
     "name": "stdout",
     "output_type": "stream",
     "text": [
      "<class 'pandas.core.frame.DataFrame'>\n",
      "RangeIndex: 657 entries, 0 to 656\n",
      "Data columns (total 5 columns):\n",
      " #   Column         Non-Null Count  Dtype \n",
      "---  ------         --------------  ----- \n",
      " 0   links          657 non-null    object\n",
      " 1   names          657 non-null    object\n",
      " 2   ratings        657 non-null    object\n",
      " 3   cuisine        657 non-null    object\n",
      " 4   price for one  657 non-null    int64 \n",
      "dtypes: int64(1), object(4)\n",
      "memory usage: 25.8+ KB\n"
     ]
    }
   ],
   "source": [
    "#checking schema of data\n",
    "data.info()"
   ]
  },
  {
   "cell_type": "code",
   "execution_count": 6,
   "id": "a2928791",
   "metadata": {},
   "outputs": [
    {
     "data": {
      "text/plain": [
       "Index(['links', 'names', 'ratings', 'cuisine', 'price for one'], dtype='object')"
      ]
     },
     "execution_count": 6,
     "metadata": {},
     "output_type": "execute_result"
    }
   ],
   "source": [
    "#displaying columns\n",
    "data.columns"
   ]
  },
  {
   "cell_type": "code",
   "execution_count": 7,
   "id": "0efcefa1",
   "metadata": {},
   "outputs": [],
   "source": [
    "#we dont want links column so need to drop it\n",
    "#Dropping links\n",
    "data.drop('links',axis=1,inplace=True)"
   ]
  },
  {
   "cell_type": "code",
   "execution_count": 8,
   "id": "091ff479",
   "metadata": {},
   "outputs": [
    {
     "data": {
      "text/html": [
       "<style type=\"text/css\">\n",
       "#T_2e9d3_row0_col0, #T_2e9d3_row0_col1, #T_2e9d3_row0_col2, #T_2e9d3_row0_col3, #T_2e9d3_row1_col0, #T_2e9d3_row1_col1, #T_2e9d3_row1_col2, #T_2e9d3_row1_col3, #T_2e9d3_row2_col0, #T_2e9d3_row2_col1, #T_2e9d3_row2_col2, #T_2e9d3_row2_col3, #T_2e9d3_row3_col0, #T_2e9d3_row3_col1, #T_2e9d3_row3_col2, #T_2e9d3_row3_col3, #T_2e9d3_row4_col0, #T_2e9d3_row4_col1, #T_2e9d3_row4_col2, #T_2e9d3_row4_col3 {\n",
       "  background-color: black;\n",
       "  color: lawngreen;\n",
       "  border-color: white;\n",
       "}\n",
       "</style>\n",
       "<table id=\"T_2e9d3\">\n",
       "  <thead>\n",
       "    <tr>\n",
       "      <th class=\"blank level0\" >&nbsp;</th>\n",
       "      <th id=\"T_2e9d3_level0_col0\" class=\"col_heading level0 col0\" >names</th>\n",
       "      <th id=\"T_2e9d3_level0_col1\" class=\"col_heading level0 col1\" >ratings</th>\n",
       "      <th id=\"T_2e9d3_level0_col2\" class=\"col_heading level0 col2\" >cuisine</th>\n",
       "      <th id=\"T_2e9d3_level0_col3\" class=\"col_heading level0 col3\" >price for one</th>\n",
       "    </tr>\n",
       "  </thead>\n",
       "  <tbody>\n",
       "    <tr>\n",
       "      <th id=\"T_2e9d3_level0_row0\" class=\"row_heading level0 row0\" >0</th>\n",
       "      <td id=\"T_2e9d3_row0_col0\" class=\"data row0 col0\" >Sahara Bakers</td>\n",
       "      <td id=\"T_2e9d3_row0_col1\" class=\"data row0 col1\" >3.7</td>\n",
       "      <td id=\"T_2e9d3_row0_col2\" class=\"data row0 col2\" >Chinese, Bakery, Sichuan, Pizza, Burger</td>\n",
       "      <td id=\"T_2e9d3_row0_col3\" class=\"data row0 col3\" >100</td>\n",
       "    </tr>\n",
       "    <tr>\n",
       "      <th id=\"T_2e9d3_level0_row1\" class=\"row_heading level0 row1\" >1</th>\n",
       "      <td id=\"T_2e9d3_row1_col0\" class=\"data row1 col0\" >KFC</td>\n",
       "      <td id=\"T_2e9d3_row1_col1\" class=\"data row1 col1\" >3.9</td>\n",
       "      <td id=\"T_2e9d3_row1_col2\" class=\"data row1 col2\" >Burger, Fast Food, Biryani, Desserts, Beverages</td>\n",
       "      <td id=\"T_2e9d3_row1_col3\" class=\"data row1 col3\" >100</td>\n",
       "    </tr>\n",
       "    <tr>\n",
       "      <th id=\"T_2e9d3_level0_row2\" class=\"row_heading level0 row2\" >2</th>\n",
       "      <td id=\"T_2e9d3_row2_col0\" class=\"data row2 col0\" >Subbaiah Gari Hotel</td>\n",
       "      <td id=\"T_2e9d3_row2_col1\" class=\"data row2 col1\" >4.1</td>\n",
       "      <td id=\"T_2e9d3_row2_col2\" class=\"data row2 col2\" >South Indian, Andhra, Mithai</td>\n",
       "      <td id=\"T_2e9d3_row2_col3\" class=\"data row2 col3\" >100</td>\n",
       "    </tr>\n",
       "    <tr>\n",
       "      <th id=\"T_2e9d3_level0_row3\" class=\"row_heading level0 row3\" >3</th>\n",
       "      <td id=\"T_2e9d3_row3_col0\" class=\"data row3 col0\" >Paradise Biryani</td>\n",
       "      <td id=\"T_2e9d3_row3_col1\" class=\"data row3 col1\" >3.9</td>\n",
       "      <td id=\"T_2e9d3_row3_col2\" class=\"data row3 col2\" >Biryani, Kebab, Desserts, Beverages</td>\n",
       "      <td id=\"T_2e9d3_row3_col3\" class=\"data row3 col3\" >100</td>\n",
       "    </tr>\n",
       "    <tr>\n",
       "      <th id=\"T_2e9d3_level0_row4\" class=\"row_heading level0 row4\" >4</th>\n",
       "      <td id=\"T_2e9d3_row4_col0\" class=\"data row4 col0\" >Pista House Bakery</td>\n",
       "      <td id=\"T_2e9d3_row4_col1\" class=\"data row4 col1\" >4.3</td>\n",
       "      <td id=\"T_2e9d3_row4_col2\" class=\"data row4 col2\" >Fast Food, Sandwich, Pizza, Burger, Wraps, Rolls, Salad, Desserts</td>\n",
       "      <td id=\"T_2e9d3_row4_col3\" class=\"data row4 col3\" >100</td>\n",
       "    </tr>\n",
       "  </tbody>\n",
       "</table>\n"
      ],
      "text/plain": [
       "<pandas.io.formats.style.Styler at 0x15e2f7d0400>"
      ]
     },
     "execution_count": 8,
     "metadata": {},
     "output_type": "execute_result"
    }
   ],
   "source": [
    "data.head().style.set_properties(**{'background-color':'black','color':'lawngreen','border-color':'white'})"
   ]
  },
  {
   "cell_type": "code",
   "execution_count": 9,
   "id": "fc87b52f",
   "metadata": {},
   "outputs": [],
   "source": [
    "data.rename(columns={'names':'Restaurant names'},inplace=True)"
   ]
  },
  {
   "cell_type": "code",
   "execution_count": 10,
   "id": "235f78e5",
   "metadata": {},
   "outputs": [
    {
     "data": {
      "text/html": [
       "<style type=\"text/css\">\n",
       "#T_2035a_row0_col0, #T_2035a_row0_col1, #T_2035a_row0_col2, #T_2035a_row0_col3, #T_2035a_row1_col0, #T_2035a_row1_col1, #T_2035a_row1_col2, #T_2035a_row1_col3, #T_2035a_row2_col0, #T_2035a_row2_col1, #T_2035a_row2_col2, #T_2035a_row2_col3, #T_2035a_row3_col0, #T_2035a_row3_col1, #T_2035a_row3_col2, #T_2035a_row3_col3, #T_2035a_row4_col0, #T_2035a_row4_col1, #T_2035a_row4_col2, #T_2035a_row4_col3, #T_2035a_row5_col0, #T_2035a_row5_col1, #T_2035a_row5_col2, #T_2035a_row5_col3, #T_2035a_row6_col0, #T_2035a_row6_col1, #T_2035a_row6_col2, #T_2035a_row6_col3, #T_2035a_row7_col0, #T_2035a_row7_col1, #T_2035a_row7_col2, #T_2035a_row7_col3, #T_2035a_row8_col0, #T_2035a_row8_col1, #T_2035a_row8_col2, #T_2035a_row8_col3, #T_2035a_row9_col0, #T_2035a_row9_col1, #T_2035a_row9_col2, #T_2035a_row9_col3, #T_2035a_row10_col0, #T_2035a_row10_col1, #T_2035a_row10_col2, #T_2035a_row10_col3, #T_2035a_row11_col0, #T_2035a_row11_col1, #T_2035a_row11_col2, #T_2035a_row11_col3, #T_2035a_row12_col0, #T_2035a_row12_col1, #T_2035a_row12_col2, #T_2035a_row12_col3, #T_2035a_row13_col0, #T_2035a_row13_col1, #T_2035a_row13_col2, #T_2035a_row13_col3, #T_2035a_row14_col0, #T_2035a_row14_col1, #T_2035a_row14_col2, #T_2035a_row14_col3, #T_2035a_row15_col0, #T_2035a_row15_col1, #T_2035a_row15_col2, #T_2035a_row15_col3, #T_2035a_row16_col0, #T_2035a_row16_col1, #T_2035a_row16_col2, #T_2035a_row16_col3, #T_2035a_row17_col0, #T_2035a_row17_col1, #T_2035a_row17_col2, #T_2035a_row17_col3, #T_2035a_row18_col0, #T_2035a_row18_col1, #T_2035a_row18_col2, #T_2035a_row18_col3, #T_2035a_row19_col0, #T_2035a_row19_col1, #T_2035a_row19_col2, #T_2035a_row19_col3 {\n",
       "  background-color: black;\n",
       "  color: lawngreen;\n",
       "  border-color: white;\n",
       "}\n",
       "</style>\n",
       "<table id=\"T_2035a\">\n",
       "  <thead>\n",
       "    <tr>\n",
       "      <th class=\"blank level0\" >&nbsp;</th>\n",
       "      <th id=\"T_2035a_level0_col0\" class=\"col_heading level0 col0\" >Restaurant names</th>\n",
       "      <th id=\"T_2035a_level0_col1\" class=\"col_heading level0 col1\" >ratings</th>\n",
       "      <th id=\"T_2035a_level0_col2\" class=\"col_heading level0 col2\" >cuisine</th>\n",
       "      <th id=\"T_2035a_level0_col3\" class=\"col_heading level0 col3\" >price for one</th>\n",
       "    </tr>\n",
       "  </thead>\n",
       "  <tbody>\n",
       "    <tr>\n",
       "      <th id=\"T_2035a_level0_row0\" class=\"row_heading level0 row0\" >0</th>\n",
       "      <td id=\"T_2035a_row0_col0\" class=\"data row0 col0\" >Sahara Bakers</td>\n",
       "      <td id=\"T_2035a_row0_col1\" class=\"data row0 col1\" >3.7</td>\n",
       "      <td id=\"T_2035a_row0_col2\" class=\"data row0 col2\" >Chinese, Bakery, Sichuan, Pizza, Burger</td>\n",
       "      <td id=\"T_2035a_row0_col3\" class=\"data row0 col3\" >100</td>\n",
       "    </tr>\n",
       "    <tr>\n",
       "      <th id=\"T_2035a_level0_row1\" class=\"row_heading level0 row1\" >1</th>\n",
       "      <td id=\"T_2035a_row1_col0\" class=\"data row1 col0\" >KFC</td>\n",
       "      <td id=\"T_2035a_row1_col1\" class=\"data row1 col1\" >3.9</td>\n",
       "      <td id=\"T_2035a_row1_col2\" class=\"data row1 col2\" >Burger, Fast Food, Biryani, Desserts, Beverages</td>\n",
       "      <td id=\"T_2035a_row1_col3\" class=\"data row1 col3\" >100</td>\n",
       "    </tr>\n",
       "    <tr>\n",
       "      <th id=\"T_2035a_level0_row2\" class=\"row_heading level0 row2\" >2</th>\n",
       "      <td id=\"T_2035a_row2_col0\" class=\"data row2 col0\" >Subbaiah Gari Hotel</td>\n",
       "      <td id=\"T_2035a_row2_col1\" class=\"data row2 col1\" >4.1</td>\n",
       "      <td id=\"T_2035a_row2_col2\" class=\"data row2 col2\" >South Indian, Andhra, Mithai</td>\n",
       "      <td id=\"T_2035a_row2_col3\" class=\"data row2 col3\" >100</td>\n",
       "    </tr>\n",
       "    <tr>\n",
       "      <th id=\"T_2035a_level0_row3\" class=\"row_heading level0 row3\" >3</th>\n",
       "      <td id=\"T_2035a_row3_col0\" class=\"data row3 col0\" >Paradise Biryani</td>\n",
       "      <td id=\"T_2035a_row3_col1\" class=\"data row3 col1\" >3.9</td>\n",
       "      <td id=\"T_2035a_row3_col2\" class=\"data row3 col2\" >Biryani, Kebab, Desserts, Beverages</td>\n",
       "      <td id=\"T_2035a_row3_col3\" class=\"data row3 col3\" >100</td>\n",
       "    </tr>\n",
       "    <tr>\n",
       "      <th id=\"T_2035a_level0_row4\" class=\"row_heading level0 row4\" >4</th>\n",
       "      <td id=\"T_2035a_row4_col0\" class=\"data row4 col0\" >Pista House Bakery</td>\n",
       "      <td id=\"T_2035a_row4_col1\" class=\"data row4 col1\" >4.3</td>\n",
       "      <td id=\"T_2035a_row4_col2\" class=\"data row4 col2\" >Fast Food, Sandwich, Pizza, Burger, Wraps, Rolls, Salad, Desserts</td>\n",
       "      <td id=\"T_2035a_row4_col3\" class=\"data row4 col3\" >100</td>\n",
       "    </tr>\n",
       "    <tr>\n",
       "      <th id=\"T_2035a_level0_row5\" class=\"row_heading level0 row5\" >5</th>\n",
       "      <td id=\"T_2035a_row5_col0\" class=\"data row5 col0\" >Shah Ghouse Hotel & Restaurant</td>\n",
       "      <td id=\"T_2035a_row5_col1\" class=\"data row5 col1\" >4</td>\n",
       "      <td id=\"T_2035a_row5_col2\" class=\"data row5 col2\" >North Indian, Chinese, Mughlai, Mandi, Sichuan, Shawarma, Seafood, Beverages</td>\n",
       "      <td id=\"T_2035a_row5_col3\" class=\"data row5 col3\" >100</td>\n",
       "    </tr>\n",
       "    <tr>\n",
       "      <th id=\"T_2035a_level0_row6\" class=\"row_heading level0 row6\" >6</th>\n",
       "      <td id=\"T_2035a_row6_col0\" class=\"data row6 col0\" >Swagath Hotel</td>\n",
       "      <td id=\"T_2035a_row6_col1\" class=\"data row6 col1\" >4.2</td>\n",
       "      <td id=\"T_2035a_row6_col2\" class=\"data row6 col2\" >South Indian, Chinese, North Indian</td>\n",
       "      <td id=\"T_2035a_row6_col3\" class=\"data row6 col3\" >100</td>\n",
       "    </tr>\n",
       "    <tr>\n",
       "      <th id=\"T_2035a_level0_row7\" class=\"row_heading level0 row7\" >7</th>\n",
       "      <td id=\"T_2035a_row7_col0\" class=\"data row7 col0\" >Just Parantha</td>\n",
       "      <td id=\"T_2035a_row7_col1\" class=\"data row7 col1\" >4.2</td>\n",
       "      <td id=\"T_2035a_row7_col2\" class=\"data row7 col2\" >North Indian</td>\n",
       "      <td id=\"T_2035a_row7_col3\" class=\"data row7 col3\" >100</td>\n",
       "    </tr>\n",
       "    <tr>\n",
       "      <th id=\"T_2035a_level0_row8\" class=\"row_heading level0 row8\" >8</th>\n",
       "      <td id=\"T_2035a_row8_col0\" class=\"data row8 col0\" >Mehfil</td>\n",
       "      <td id=\"T_2035a_row8_col1\" class=\"data row8 col1\" >4.1</td>\n",
       "      <td id=\"T_2035a_row8_col2\" class=\"data row8 col2\" >North Indian, Biryani, Mughlai</td>\n",
       "      <td id=\"T_2035a_row8_col3\" class=\"data row8 col3\" >100</td>\n",
       "    </tr>\n",
       "    <tr>\n",
       "      <th id=\"T_2035a_level0_row9\" class=\"row_heading level0 row9\" >9</th>\n",
       "      <td id=\"T_2035a_row9_col0\" class=\"data row9 col0\" >Cream Stone</td>\n",
       "      <td id=\"T_2035a_row9_col1\" class=\"data row9 col1\" >4.3</td>\n",
       "      <td id=\"T_2035a_row9_col2\" class=\"data row9 col2\" >Ice Cream, Desserts</td>\n",
       "      <td id=\"T_2035a_row9_col3\" class=\"data row9 col3\" >150</td>\n",
       "    </tr>\n",
       "    <tr>\n",
       "      <th id=\"T_2035a_level0_row10\" class=\"row_heading level0 row10\" >10</th>\n",
       "      <td id=\"T_2035a_row10_col0\" class=\"data row10 col0\" >MS Bakery & Sweets</td>\n",
       "      <td id=\"T_2035a_row10_col1\" class=\"data row10 col1\" >4.3</td>\n",
       "      <td id=\"T_2035a_row10_col2\" class=\"data row10 col2\" >Bakery, Desserts, Fast Food, Pizza</td>\n",
       "      <td id=\"T_2035a_row10_col3\" class=\"data row10 col3\" >150</td>\n",
       "    </tr>\n",
       "    <tr>\n",
       "      <th id=\"T_2035a_level0_row11\" class=\"row_heading level0 row11\" >11</th>\n",
       "      <td id=\"T_2035a_row11_col0\" class=\"data row11 col0\" >Iqbal Cafe</td>\n",
       "      <td id=\"T_2035a_row11_col1\" class=\"data row11 col1\" >4.4</td>\n",
       "      <td id=\"T_2035a_row11_col2\" class=\"data row11 col2\" >Hyderabadi, Biryani</td>\n",
       "      <td id=\"T_2035a_row11_col3\" class=\"data row11 col3\" >150</td>\n",
       "    </tr>\n",
       "    <tr>\n",
       "      <th id=\"T_2035a_level0_row12\" class=\"row_heading level0 row12\" >12</th>\n",
       "      <td id=\"T_2035a_row12_col0\" class=\"data row12 col0\" >Mahalaxmi Tiffin Centre</td>\n",
       "      <td id=\"T_2035a_row12_col1\" class=\"data row12 col1\" >4.1</td>\n",
       "      <td id=\"T_2035a_row12_col2\" class=\"data row12 col2\" >South Indian</td>\n",
       "      <td id=\"T_2035a_row12_col3\" class=\"data row12 col3\" >150</td>\n",
       "    </tr>\n",
       "    <tr>\n",
       "      <th id=\"T_2035a_level0_row13\" class=\"row_heading level0 row13\" >13</th>\n",
       "      <td id=\"T_2035a_row13_col0\" class=\"data row13 col0\" >Al- Naseer Tahari Centre</td>\n",
       "      <td id=\"T_2035a_row13_col1\" class=\"data row13 col1\" >4.3</td>\n",
       "      <td id=\"T_2035a_row13_col2\" class=\"data row13 col2\" >Biryani</td>\n",
       "      <td id=\"T_2035a_row13_col3\" class=\"data row13 col3\" >150</td>\n",
       "    </tr>\n",
       "    <tr>\n",
       "      <th id=\"T_2035a_level0_row14\" class=\"row_heading level0 row14\" >14</th>\n",
       "      <td id=\"T_2035a_row14_col0\" class=\"data row14 col0\" >Pizza Hut</td>\n",
       "      <td id=\"T_2035a_row14_col1\" class=\"data row14 col1\" >3.7</td>\n",
       "      <td id=\"T_2035a_row14_col2\" class=\"data row14 col2\" >Pizza, Fast Food, Desserts, Beverages</td>\n",
       "      <td id=\"T_2035a_row14_col3\" class=\"data row14 col3\" >150</td>\n",
       "    </tr>\n",
       "    <tr>\n",
       "      <th id=\"T_2035a_level0_row15\" class=\"row_heading level0 row15\" >15</th>\n",
       "      <td id=\"T_2035a_row15_col0\" class=\"data row15 col0\" >Andhra Gunpowder</td>\n",
       "      <td id=\"T_2035a_row15_col1\" class=\"data row15 col1\" >4.3</td>\n",
       "      <td id=\"T_2035a_row15_col2\" class=\"data row15 col2\" >Andhra, Biryani, South Indian, Desserts, Beverages, Hyderabadi</td>\n",
       "      <td id=\"T_2035a_row15_col3\" class=\"data row15 col3\" >150</td>\n",
       "    </tr>\n",
       "    <tr>\n",
       "      <th id=\"T_2035a_level0_row16\" class=\"row_heading level0 row16\" >16</th>\n",
       "      <td id=\"T_2035a_row16_col0\" class=\"data row16 col0\" >Burger King</td>\n",
       "      <td id=\"T_2035a_row16_col1\" class=\"data row16 col1\" >4.2</td>\n",
       "      <td id=\"T_2035a_row16_col2\" class=\"data row16 col2\" >Burger, Fast Food</td>\n",
       "      <td id=\"T_2035a_row16_col3\" class=\"data row16 col3\" >150</td>\n",
       "    </tr>\n",
       "    <tr>\n",
       "      <th id=\"T_2035a_level0_row17\" class=\"row_heading level0 row17\" >17</th>\n",
       "      <td id=\"T_2035a_row17_col0\" class=\"data row17 col0\" >Kinara Grand</td>\n",
       "      <td id=\"T_2035a_row17_col1\" class=\"data row17 col1\" >4</td>\n",
       "      <td id=\"T_2035a_row17_col2\" class=\"data row17 col2\" >North Indian, Chinese, Andhra, Seafood</td>\n",
       "      <td id=\"T_2035a_row17_col3\" class=\"data row17 col3\" >150</td>\n",
       "    </tr>\n",
       "    <tr>\n",
       "      <th id=\"T_2035a_level0_row18\" class=\"row_heading level0 row18\" >18</th>\n",
       "      <td id=\"T_2035a_row18_col0\" class=\"data row18 col0\" >Meridian Restaurant</td>\n",
       "      <td id=\"T_2035a_row18_col1\" class=\"data row18 col1\" >4.1</td>\n",
       "      <td id=\"T_2035a_row18_col2\" class=\"data row18 col2\" >Biryani, North Indian, Seafood, Chinese, Kebab</td>\n",
       "      <td id=\"T_2035a_row18_col3\" class=\"data row18 col3\" >150</td>\n",
       "    </tr>\n",
       "    <tr>\n",
       "      <th id=\"T_2035a_level0_row19\" class=\"row_heading level0 row19\" >19</th>\n",
       "      <td id=\"T_2035a_row19_col0\" class=\"data row19 col0\" >KS Bakers</td>\n",
       "      <td id=\"T_2035a_row19_col1\" class=\"data row19 col1\" >4.1</td>\n",
       "      <td id=\"T_2035a_row19_col2\" class=\"data row19 col2\" >Bakery, Fast Food, Pizza, Burger</td>\n",
       "      <td id=\"T_2035a_row19_col3\" class=\"data row19 col3\" >150</td>\n",
       "    </tr>\n",
       "  </tbody>\n",
       "</table>\n"
      ],
      "text/plain": [
       "<pandas.io.formats.style.Styler at 0x15e2f7d04c0>"
      ]
     },
     "execution_count": 10,
     "metadata": {},
     "output_type": "execute_result"
    }
   ],
   "source": [
    "data.head(20).style.set_properties(**{'background-color':'black','color':'lawngreen','border-color':'white'})"
   ]
  },
  {
   "cell_type": "code",
   "execution_count": 11,
   "id": "de1d019f",
   "metadata": {},
   "outputs": [
    {
     "name": "stdout",
     "output_type": "stream",
     "text": [
      "<class 'pandas.core.frame.DataFrame'>\n",
      "RangeIndex: 657 entries, 0 to 656\n",
      "Data columns (total 4 columns):\n",
      " #   Column            Non-Null Count  Dtype \n",
      "---  ------            --------------  ----- \n",
      " 0   Restaurant names  657 non-null    object\n",
      " 1   ratings           657 non-null    object\n",
      " 2   cuisine           657 non-null    object\n",
      " 3   price for one     657 non-null    int64 \n",
      "dtypes: int64(1), object(3)\n",
      "memory usage: 20.7+ KB\n"
     ]
    }
   ],
   "source": [
    "#getting an overview or schema\n",
    "data.info()"
   ]
  },
  {
   "cell_type": "code",
   "execution_count": 12,
   "id": "3072b620",
   "metadata": {},
   "outputs": [
    {
     "data": {
      "text/html": [
       "<div>\n",
       "<style scoped>\n",
       "    .dataframe tbody tr th:only-of-type {\n",
       "        vertical-align: middle;\n",
       "    }\n",
       "\n",
       "    .dataframe tbody tr th {\n",
       "        vertical-align: top;\n",
       "    }\n",
       "\n",
       "    .dataframe thead th {\n",
       "        text-align: right;\n",
       "    }\n",
       "</style>\n",
       "<table border=\"1\" class=\"dataframe\">\n",
       "  <thead>\n",
       "    <tr style=\"text-align: right;\">\n",
       "      <th></th>\n",
       "      <th>price for one</th>\n",
       "    </tr>\n",
       "  </thead>\n",
       "  <tbody>\n",
       "    <tr>\n",
       "      <th>count</th>\n",
       "      <td>657.000000</td>\n",
       "    </tr>\n",
       "    <tr>\n",
       "      <th>mean</th>\n",
       "      <td>169.406393</td>\n",
       "    </tr>\n",
       "    <tr>\n",
       "      <th>std</th>\n",
       "      <td>97.178712</td>\n",
       "    </tr>\n",
       "    <tr>\n",
       "      <th>min</th>\n",
       "      <td>50.000000</td>\n",
       "    </tr>\n",
       "    <tr>\n",
       "      <th>25%</th>\n",
       "      <td>100.000000</td>\n",
       "    </tr>\n",
       "    <tr>\n",
       "      <th>50%</th>\n",
       "      <td>150.000000</td>\n",
       "    </tr>\n",
       "    <tr>\n",
       "      <th>75%</th>\n",
       "      <td>250.000000</td>\n",
       "    </tr>\n",
       "    <tr>\n",
       "      <th>max</th>\n",
       "      <td>400.000000</td>\n",
       "    </tr>\n",
       "  </tbody>\n",
       "</table>\n",
       "</div>"
      ],
      "text/plain": [
       "       price for one\n",
       "count     657.000000\n",
       "mean      169.406393\n",
       "std        97.178712\n",
       "min        50.000000\n",
       "25%       100.000000\n",
       "50%       150.000000\n",
       "75%       250.000000\n",
       "max       400.000000"
      ]
     },
     "execution_count": 12,
     "metadata": {},
     "output_type": "execute_result"
    }
   ],
   "source": [
    "#stat approach\n",
    "data.describe() #it wull automatically apply stat for \"price of one column\" as there is only one numeric column"
   ]
  },
  {
   "cell_type": "code",
   "execution_count": 13,
   "id": "9200a82d",
   "metadata": {},
   "outputs": [
    {
     "data": {
      "text/plain": [
       "(657, 4)"
      ]
     },
     "execution_count": 13,
     "metadata": {},
     "output_type": "execute_result"
    }
   ],
   "source": [
    "#shape before duplicates -(657,4)\n",
    "#dropping duplicates\n",
    "data.drop_duplicates(inplace=True)\n",
    "data.shape\n",
    "\n",
    "#concl- no duplicates"
   ]
  },
  {
   "cell_type": "code",
   "execution_count": 14,
   "id": "ac9241b8",
   "metadata": {},
   "outputs": [
    {
     "data": {
      "text/plain": [
       "Restaurant names    0\n",
       "ratings             0\n",
       "cuisine             0\n",
       "price for one       0\n",
       "dtype: int64"
      ]
     },
     "execution_count": 14,
     "metadata": {},
     "output_type": "execute_result"
    }
   ],
   "source": [
    "#data cleaning\n",
    "#checking for null values\n",
    "data.isnull().sum()"
   ]
  },
  {
   "cell_type": "code",
   "execution_count": 15,
   "id": "555e6cae",
   "metadata": {},
   "outputs": [
    {
     "data": {
      "text/plain": [
       "array(['3.7', '3.9', '4.1', '4.3', '4', '4.2', '4.4', '4.5', '3.8', '4.6',\n",
       "       '3.6', 'New', '3.4', '3.5', '3.1', '3.3', '2.7', '3.2', '-', '3',\n",
       "       '4.7', '2.8', '2.9', '2.6'], dtype=object)"
      ]
     },
     "execution_count": 15,
     "metadata": {},
     "output_type": "execute_result"
    }
   ],
   "source": [
    "#cleaning ratings column\n",
    "data['ratings'].unique()"
   ]
  },
  {
   "cell_type": "code",
   "execution_count": 16,
   "id": "4805bc47",
   "metadata": {},
   "outputs": [
    {
     "data": {
      "text/plain": [
       "0      3.7\n",
       "1      3.9\n",
       "2      4.1\n",
       "3      3.9\n",
       "4      4.3\n",
       "      ... \n",
       "652    3.2\n",
       "653    4.0\n",
       "654    3.8\n",
       "655    4.0\n",
       "656    3.4\n",
       "Name: ratings, Length: 657, dtype: float64"
      ]
     },
     "execution_count": 16,
     "metadata": {},
     "output_type": "execute_result"
    }
   ],
   "source": [
    "#removing New and -\n",
    "\n",
    "def modify(r_t):\n",
    "    if (r_t=='New' or r_t=='-'):\n",
    "        return np.nan\n",
    "    else:\n",
    "        return float(r_t)\n",
    "\n",
    "        \n",
    "data['ratings']=data['ratings'].apply(modify)\n",
    "data['ratings'].fillna(round(data['ratings'].mean()),inplace=True)\n",
    "data['ratings']"
   ]
  },
  {
   "cell_type": "code",
   "execution_count": 17,
   "id": "a4022ba4",
   "metadata": {},
   "outputs": [
    {
     "name": "stdout",
     "output_type": "stream",
     "text": [
      "<class 'pandas.core.frame.DataFrame'>\n",
      "Int64Index: 657 entries, 0 to 656\n",
      "Data columns (total 4 columns):\n",
      " #   Column            Non-Null Count  Dtype  \n",
      "---  ------            --------------  -----  \n",
      " 0   Restaurant names  657 non-null    object \n",
      " 1   ratings           657 non-null    float64\n",
      " 2   cuisine           657 non-null    object \n",
      " 3   price for one     657 non-null    int64  \n",
      "dtypes: float64(1), int64(1), object(2)\n",
      "memory usage: 25.7+ KB\n"
     ]
    }
   ],
   "source": [
    "data.info()"
   ]
  },
  {
   "cell_type": "code",
   "execution_count": 18,
   "id": "8323e54b",
   "metadata": {},
   "outputs": [
    {
     "data": {
      "text/plain": [
       "South Indian                                                                         67\n",
       "Bakery, Desserts                                                                     23\n",
       "Mithai, Street Food                                                                  22\n",
       "Mithai                                                                               14\n",
       "North Indian, Chinese                                                                13\n",
       "                                                                                     ..\n",
       "Chinese, North Indian, Sichuan                                                        1\n",
       "Mithai, Desserts, Street Food                                                         1\n",
       "Biryani, Cafe, North Indian, Continental, Street Food, Beverages, Desserts, Pizza     1\n",
       "South Indian, Street Food, Juices, Beverages                                          1\n",
       "Chinese, Momos                                                                        1\n",
       "Name: cuisine, Length: 396, dtype: int64"
      ]
     },
     "execution_count": 18,
     "metadata": {},
     "output_type": "execute_result"
    }
   ],
   "source": [
    "data['cuisine'].value_counts()"
   ]
  },
  {
   "cell_type": "code",
   "execution_count": 19,
   "id": "2eac165d",
   "metadata": {},
   "outputs": [],
   "source": [
    "#data visualization\n",
    "import matplotlib.pyplot as plt\n",
    "import seaborn as sns"
   ]
  },
  {
   "cell_type": "code",
   "execution_count": 20,
   "id": "66edf730",
   "metadata": {},
   "outputs": [
    {
     "name": "stderr",
     "output_type": "stream",
     "text": [
      "C:\\Users\\shashank malik\\anaconda3\\lib\\site-packages\\seaborn\\_decorators.py:36: FutureWarning: Pass the following variable as a keyword arg: x. From version 0.12, the only valid positional argument will be `data`, and passing other arguments without an explicit keyword will result in an error or misinterpretation.\n",
      "  warnings.warn(\n"
     ]
    },
    {
     "data": {
      "text/plain": [
       "<AxesSubplot:xlabel='cuisine', ylabel='count'>"
      ]
     },
     "execution_count": 20,
     "metadata": {},
     "output_type": "execute_result"
    },
    {
     "data": {
      "image/png": "[encoded data removed]",
      "text/plain": [
       "<Figure size 1152x720 with 1 Axes>"
      ]
     },
     "metadata": {
      "needs_background": "light"
     },
     "output_type": "display_data"
    }
   ],
   "source": [
    "plt.figure(figsize=(16,10))\n",
    "sns.countplot(data['cuisine'])"
   ]
  },
  {
   "cell_type": "code",
   "execution_count": 21,
   "id": "367a2b96",
   "metadata": {},
   "outputs": [
    {
     "name": "stderr",
     "output_type": "stream",
     "text": [
      "C:\\Users\\shashank malik\\anaconda3\\lib\\site-packages\\seaborn\\_decorators.py:36: FutureWarning: Pass the following variable as a keyword arg: x. From version 0.12, the only valid positional argument will be `data`, and passing other arguments without an explicit keyword will result in an error or misinterpretation.\n",
      "  warnings.warn(\n"
     ]
    },
    {
     "data": {
      "text/plain": [
       "<AxesSubplot:xlabel='ratings', ylabel='count'>"
      ]
     },
     "execution_count": 21,
     "metadata": {},
     "output_type": "execute_result"
    },
    {
     "data": {
      "image/png": "[encoded data removed]",
      "text/plain": [
       "<Figure size 1440x360 with 1 Axes>"
      ]
     },
     "metadata": {
      "needs_background": "light"
     },
     "output_type": "display_data"
    }
   ],
   "source": [
    "plt.figure(figsize=(20,5))\n",
    "sns.countplot(data['ratings'])"
   ]
  },
  {
   "cell_type": "code",
   "execution_count": 22,
   "id": "ec9c8708",
   "metadata": {},
   "outputs": [
    {
     "name": "stderr",
     "output_type": "stream",
     "text": [
      "C:\\Users\\shashank malik\\anaconda3\\lib\\site-packages\\seaborn\\_decorators.py:36: FutureWarning: Pass the following variable as a keyword arg: x. From version 0.12, the only valid positional argument will be `data`, and passing other arguments without an explicit keyword will result in an error or misinterpretation.\n",
      "  warnings.warn(\n"
     ]
    },
    {
     "data": {
      "image/png": "[encoded data removed]",
      "text/plain": [
       "<Figure size 432x288 with 1 Axes>"
      ]
     },
     "metadata": {
      "needs_background": "light"
     },
     "output_type": "display_data"
    }
   ],
   "source": [
    "sns.countplot(data['price for one'])\n",
    "plt.show()"
   ]
  },
  {
   "cell_type": "code",
   "execution_count": 23,
   "id": "2ff340c2",
   "metadata": {},
   "outputs": [
    {
     "data": {
      "text/plain": [
       "<AxesSubplot:>"
      ]
     },
     "execution_count": 23,
     "metadata": {},
     "output_type": "execute_result"
    },
    {
     "data": {
      "image/png": "[encoded data removed]",
      "text/plain": [
       "<Figure size 432x288 with 2 Axes>"
      ]
     },
     "metadata": {
      "needs_background": "light"
     },
     "output_type": "display_data"
    }
   ],
   "source": [
    "#co relation between ratings and proce for one\n",
    "corr=data.corr()\n",
    "sns.heatmap(corr,xticklabels=corr.columns,yticklabels=corr.columns)"
   ]
  },
  {
   "cell_type": "code",
   "execution_count": 24,
   "id": "a520acf7",
   "metadata": {},
   "outputs": [],
   "source": [
    "corr=data.corr()"
   ]
  },
  {
   "cell_type": "code",
   "execution_count": 25,
   "id": "01bb1b7d",
   "metadata": {},
   "outputs": [
    {
     "data": {
      "text/html": [
       "<div>\n",
       "<style scoped>\n",
       "    .dataframe tbody tr th:only-of-type {\n",
       "        vertical-align: middle;\n",
       "    }\n",
       "\n",
       "    .dataframe tbody tr th {\n",
       "        vertical-align: top;\n",
       "    }\n",
       "\n",
       "    .dataframe thead th {\n",
       "        text-align: right;\n",
       "    }\n",
       "</style>\n",
       "<table border=\"1\" class=\"dataframe\">\n",
       "  <thead>\n",
       "    <tr style=\"text-align: right;\">\n",
       "      <th></th>\n",
       "      <th>ratings</th>\n",
       "      <th>price for one</th>\n",
       "    </tr>\n",
       "  </thead>\n",
       "  <tbody>\n",
       "    <tr>\n",
       "      <th>ratings</th>\n",
       "      <td>1.000000</td>\n",
       "      <td>0.024243</td>\n",
       "    </tr>\n",
       "    <tr>\n",
       "      <th>price for one</th>\n",
       "      <td>0.024243</td>\n",
       "      <td>1.000000</td>\n",
       "    </tr>\n",
       "  </tbody>\n",
       "</table>\n",
       "</div>"
      ],
      "text/plain": [
       "                ratings  price for one\n",
       "ratings        1.000000       0.024243\n",
       "price for one  0.024243       1.000000"
      ]
     },
     "execution_count": 25,
     "metadata": {},
     "output_type": "execute_result"
    }
   ],
   "source": [
    "corr"
   ]
  },
  {
   "cell_type": "markdown",
   "id": "36bcfd8c",
   "metadata": {},
   "source": []
  },
  {
   "cell_type": "code",
   "execution_count": null,
   "id": "de03ad2f",
   "metadata": {},
   "outputs": [],
   "source": []
  },
  {
   "cell_type": "code",
   "execution_count": null,
   "id": "6a465f36",
   "metadata": {},
   "outputs": [],
   "source": []
  },
  {
   "cell_type": "code",
   "execution_count": 28,
   "id": "be682c42",
   "metadata": {},
   "outputs": [],
   "source": []
  },
  {
   "cell_type": "code",
   "execution_count": 30,
   "id": "94d21b6f",
   "metadata": {},
   "outputs": [
    {
     "name": "stdout",
     "output_type": "stream",
     "text": [
      "(657, 3) (657,)\n"
     ]
    }
   ],
   "source": []
  },
  {
   "cell_type": "code",
   "execution_count": 60,
   "id": "6c7312f0",
   "metadata": {},
   "outputs": [],
   "source": []
  },
  {
   "cell_type": "code",
   "execution_count": 61,
   "id": "b223868d",
   "metadata": {},
   "outputs": [
    {
     "name": "stdout",
     "output_type": "stream",
     "text": [
      "(459, 3) (459,) (198, 3) (198,)\n"
     ]
    }
   ],
   "source": []
  },
  {
   "cell_type": "code",
   "execution_count": 62,
   "id": "8acf4da3",
   "metadata": {},
   "outputs": [
    {
     "data": {
      "text/html": [
       "<div>\n",
       "<style scoped>\n",
       "    .dataframe tbody tr th:only-of-type {\n",
       "        vertical-align: middle;\n",
       "    }\n",
       "\n",
       "    .dataframe tbody tr th {\n",
       "        vertical-align: top;\n",
       "    }\n",
       "\n",
       "    .dataframe thead th {\n",
       "        text-align: right;\n",
       "    }\n",
       "</style>\n",
       "<table border=\"1\" class=\"dataframe\">\n",
       "  <thead>\n",
       "    <tr style=\"text-align: right;\">\n",
       "      <th></th>\n",
       "      <th>Restaurant names</th>\n",
       "      <th>ratings</th>\n",
       "      <th>cuisine</th>\n",
       "    </tr>\n",
       "  </thead>\n",
       "  <tbody>\n",
       "    <tr>\n",
       "      <th>19</th>\n",
       "      <td>KS Bakers</td>\n",
       "      <td>4.1</td>\n",
       "      <td>Bakery, Fast Food, Pizza, Burger</td>\n",
       "    </tr>\n",
       "    <tr>\n",
       "      <th>540</th>\n",
       "      <td>Sambhar Bhojanam Mess</td>\n",
       "      <td>4.0</td>\n",
       "      <td>South Indian, North Indian</td>\n",
       "    </tr>\n",
       "    <tr>\n",
       "      <th>639</th>\n",
       "      <td>Sankla Tiffins &amp; Dhaba</td>\n",
       "      <td>4.0</td>\n",
       "      <td>Chinese, South Indian, North Indian</td>\n",
       "    </tr>\n",
       "    <tr>\n",
       "      <th>284</th>\n",
       "      <td>Samosa Party</td>\n",
       "      <td>4.0</td>\n",
       "      <td>Street Food, Beverages</td>\n",
       "    </tr>\n",
       "    <tr>\n",
       "      <th>197</th>\n",
       "      <td>Grand Bawarchi Restaurant</td>\n",
       "      <td>4.3</td>\n",
       "      <td>North Indian, Chinese, Biryani</td>\n",
       "    </tr>\n",
       "    <tr>\n",
       "      <th>...</th>\n",
       "      <td>...</td>\n",
       "      <td>...</td>\n",
       "      <td>...</td>\n",
       "    </tr>\n",
       "    <tr>\n",
       "      <th>578</th>\n",
       "      <td>Italian Express</td>\n",
       "      <td>4.0</td>\n",
       "      <td>Chinese, Fast Food, Pizza, Pasta, Italian</td>\n",
       "    </tr>\n",
       "    <tr>\n",
       "      <th>53</th>\n",
       "      <td>Kwality Wall’s Frozen Dessert and Ice Cream Shop</td>\n",
       "      <td>4.5</td>\n",
       "      <td>Ice Cream</td>\n",
       "    </tr>\n",
       "    <tr>\n",
       "      <th>350</th>\n",
       "      <td>A1 Fast Food And Nahari Centre</td>\n",
       "      <td>3.5</td>\n",
       "      <td>Chinese, Mughlai</td>\n",
       "    </tr>\n",
       "    <tr>\n",
       "      <th>79</th>\n",
       "      <td>Pathemari Kerala Restaurant</td>\n",
       "      <td>4.1</td>\n",
       "      <td>Kerala, Biryani, South Indian</td>\n",
       "    </tr>\n",
       "    <tr>\n",
       "      <th>520</th>\n",
       "      <td>Small Mixed Rice Veg Non Veg</td>\n",
       "      <td>4.0</td>\n",
       "      <td>South Indian, North Indian</td>\n",
       "    </tr>\n",
       "  </tbody>\n",
       "</table>\n",
       "<p>459 rows × 3 columns</p>\n",
       "</div>"
      ],
      "text/plain": [
       "                                     Restaurant names  ratings  \\\n",
       "19                                          KS Bakers      4.1   \n",
       "540                             Sambhar Bhojanam Mess      4.0   \n",
       "639                            Sankla Tiffins & Dhaba      4.0   \n",
       "284                                      Samosa Party      4.0   \n",
       "197                         Grand Bawarchi Restaurant      4.3   \n",
       "..                                                ...      ...   \n",
       "578                                   Italian Express      4.0   \n",
       "53   Kwality Wall’s Frozen Dessert and Ice Cream Shop      4.5   \n",
       "350                    A1 Fast Food And Nahari Centre      3.5   \n",
       "79                        Pathemari Kerala Restaurant      4.1   \n",
       "520                      Small Mixed Rice Veg Non Veg      4.0   \n",
       "\n",
       "                                       cuisine  \n",
       "19            Bakery, Fast Food, Pizza, Burger  \n",
       "540                 South Indian, North Indian  \n",
       "639        Chinese, South Indian, North Indian  \n",
       "284                     Street Food, Beverages  \n",
       "197             North Indian, Chinese, Biryani  \n",
       "..                                         ...  \n",
       "578  Chinese, Fast Food, Pizza, Pasta, Italian  \n",
       "53                                   Ice Cream  \n",
       "350                           Chinese, Mughlai  \n",
       "79               Kerala, Biryani, South Indian  \n",
       "520                 South Indian, North Indian  \n",
       "\n",
       "[459 rows x 3 columns]"
      ]
     },
     "execution_count": 62,
     "metadata": {},
     "output_type": "execute_result"
    }
   ],
   "source": []
  },
  {
   "cell_type": "code",
   "execution_count": 84,
   "id": "65f83383",
   "metadata": {},
   "outputs": [
    {
     "data": {
      "text/plain": [
       "((459, 742), (198, 336))"
      ]
     },
     "execution_count": 84,
     "metadata": {},
     "output_type": "execute_result"
    }
   ],
   "source": []
  },
  {
   "cell_type": "code",
   "execution_count": 80,
   "id": "1d605c11",
   "metadata": {},
   "outputs": [
    {
     "ename": "ValueError",
     "evalue": "X has 336 features, but MinMaxScaler is expecting 742 features as input.",
     "output_type": "error",
     "traceback": [
      "\u001b[1;31m---------------------------------------------------------------------------\u001b[0m",
      "\u001b[1;31mValueError\u001b[0m                                Traceback (most recent call last)",
      "\u001b[1;32m~\\AppData\\Local\\Temp/ipykernel_20496/1772112630.py\u001b[0m in \u001b[0;36m<module>\u001b[1;34m\u001b[0m\n\u001b[0;32m      5\u001b[0m \u001b[0mscaler\u001b[0m \u001b[1;33m=\u001b[0m \u001b[0mMinMaxScaler\u001b[0m\u001b[1;33m(\u001b[0m\u001b[1;33m)\u001b[0m\u001b[1;33m\u001b[0m\u001b[1;33m\u001b[0m\u001b[0m\n\u001b[0;32m      6\u001b[0m \u001b[0mX_train_scaled\u001b[0m \u001b[1;33m=\u001b[0m \u001b[0mpd\u001b[0m\u001b[1;33m.\u001b[0m\u001b[0mDataFrame\u001b[0m\u001b[1;33m(\u001b[0m\u001b[0mscaler\u001b[0m\u001b[1;33m.\u001b[0m\u001b[0mfit_transform\u001b[0m\u001b[1;33m(\u001b[0m\u001b[0mX_train\u001b[0m\u001b[1;33m)\u001b[0m\u001b[1;33m,\u001b[0m\u001b[0mcolumns\u001b[0m\u001b[1;33m=\u001b[0m\u001b[0mX_train\u001b[0m\u001b[1;33m.\u001b[0m\u001b[0mcolumns\u001b[0m\u001b[1;33m)\u001b[0m\u001b[1;33m\u001b[0m\u001b[1;33m\u001b[0m\u001b[0m\n\u001b[1;32m----> 7\u001b[1;33m \u001b[0mX_test_scaled\u001b[0m \u001b[1;33m=\u001b[0m \u001b[0mpd\u001b[0m\u001b[1;33m.\u001b[0m\u001b[0mDataFrame\u001b[0m\u001b[1;33m(\u001b[0m\u001b[0mscaler\u001b[0m\u001b[1;33m.\u001b[0m\u001b[0mtransform\u001b[0m\u001b[1;33m(\u001b[0m\u001b[0mX_test\u001b[0m\u001b[1;33m)\u001b[0m\u001b[1;33m,\u001b[0m \u001b[0mcolumns\u001b[0m\u001b[1;33m=\u001b[0m\u001b[0mX_train\u001b[0m\u001b[1;33m.\u001b[0m\u001b[0mcolumns\u001b[0m\u001b[1;33m)\u001b[0m\u001b[1;33m\u001b[0m\u001b[1;33m\u001b[0m\u001b[0m\n\u001b[0m\u001b[0;32m      8\u001b[0m \u001b[1;33m\u001b[0m\u001b[0m\n\u001b[0;32m      9\u001b[0m \u001b[0mX_train_scaled\u001b[0m\u001b[1;33m.\u001b[0m\u001b[0mshape\u001b[0m\u001b[1;33m,\u001b[0m\u001b[0mX_test_scaled\u001b[0m\u001b[1;33m.\u001b[0m\u001b[0mshape\u001b[0m\u001b[1;33m\u001b[0m\u001b[1;33m\u001b[0m\u001b[0m\n",
      "\u001b[1;32m~\\anaconda3\\lib\\site-packages\\sklearn\\preprocessing\\_data.py\u001b[0m in \u001b[0;36mtransform\u001b[1;34m(self, X)\u001b[0m\n\u001b[0;32m    432\u001b[0m         \u001b[0mcheck_is_fitted\u001b[0m\u001b[1;33m(\u001b[0m\u001b[0mself\u001b[0m\u001b[1;33m)\u001b[0m\u001b[1;33m\u001b[0m\u001b[1;33m\u001b[0m\u001b[0m\n\u001b[0;32m    433\u001b[0m \u001b[1;33m\u001b[0m\u001b[0m\n\u001b[1;32m--> 434\u001b[1;33m         X = self._validate_data(X, copy=self.copy, dtype=FLOAT_DTYPES,\n\u001b[0m\u001b[0;32m    435\u001b[0m                                 force_all_finite=\"allow-nan\", reset=False)\n\u001b[0;32m    436\u001b[0m \u001b[1;33m\u001b[0m\u001b[0m\n",
      "\u001b[1;32m~\\anaconda3\\lib\\site-packages\\sklearn\\base.py\u001b[0m in \u001b[0;36m_validate_data\u001b[1;34m(self, X, y, reset, validate_separately, **check_params)\u001b[0m\n\u001b[0;32m    435\u001b[0m \u001b[1;33m\u001b[0m\u001b[0m\n\u001b[0;32m    436\u001b[0m         \u001b[1;32mif\u001b[0m \u001b[0mcheck_params\u001b[0m\u001b[1;33m.\u001b[0m\u001b[0mget\u001b[0m\u001b[1;33m(\u001b[0m\u001b[1;34m'ensure_2d'\u001b[0m\u001b[1;33m,\u001b[0m \u001b[1;32mTrue\u001b[0m\u001b[1;33m)\u001b[0m\u001b[1;33m:\u001b[0m\u001b[1;33m\u001b[0m\u001b[1;33m\u001b[0m\u001b[0m\n\u001b[1;32m--> 437\u001b[1;33m             \u001b[0mself\u001b[0m\u001b[1;33m.\u001b[0m\u001b[0m_check_n_features\u001b[0m\u001b[1;33m(\u001b[0m\u001b[0mX\u001b[0m\u001b[1;33m,\u001b[0m \u001b[0mreset\u001b[0m\u001b[1;33m=\u001b[0m\u001b[0mreset\u001b[0m\u001b[1;33m)\u001b[0m\u001b[1;33m\u001b[0m\u001b[1;33m\u001b[0m\u001b[0m\n\u001b[0m\u001b[0;32m    438\u001b[0m \u001b[1;33m\u001b[0m\u001b[0m\n\u001b[0;32m    439\u001b[0m         \u001b[1;32mreturn\u001b[0m \u001b[0mout\u001b[0m\u001b[1;33m\u001b[0m\u001b[1;33m\u001b[0m\u001b[0m\n",
      "\u001b[1;32m~\\anaconda3\\lib\\site-packages\\sklearn\\base.py\u001b[0m in \u001b[0;36m_check_n_features\u001b[1;34m(self, X, reset)\u001b[0m\n\u001b[0;32m    363\u001b[0m \u001b[1;33m\u001b[0m\u001b[0m\n\u001b[0;32m    364\u001b[0m         \u001b[1;32mif\u001b[0m \u001b[0mn_features\u001b[0m \u001b[1;33m!=\u001b[0m \u001b[0mself\u001b[0m\u001b[1;33m.\u001b[0m\u001b[0mn_features_in_\u001b[0m\u001b[1;33m:\u001b[0m\u001b[1;33m\u001b[0m\u001b[1;33m\u001b[0m\u001b[0m\n\u001b[1;32m--> 365\u001b[1;33m             raise ValueError(\n\u001b[0m\u001b[0;32m    366\u001b[0m                 \u001b[1;34mf\"X has {n_features} features, but {self.__class__.__name__} \"\u001b[0m\u001b[1;33m\u001b[0m\u001b[1;33m\u001b[0m\u001b[0m\n\u001b[0;32m    367\u001b[0m                 f\"is expecting {self.n_features_in_} features as input.\")\n",
      "\u001b[1;31mValueError\u001b[0m: X has 336 features, but MinMaxScaler is expecting 742 features as input."
     ]
    }
   ],
   "source": []
  },
  {
   "cell_type": "code",
   "execution_count": 35,
   "id": "2ddf44a5",
   "metadata": {},
   "outputs": [],
   "source": [
    "\n"
   ]
  },
  {
   "cell_type": "code",
   "execution_count": null,
   "id": "92b01dfd",
   "metadata": {},
   "outputs": [],
   "source": []
  }
 ],
 "metadata": {
  "kernelspec": {
   "display_name": "Python 3 (ipykernel)",
   "language": "python",
   "name": "python3"
  },
  "language_info": {
   "codemirror_mode": {
    "name": "ipython",
    "version": 3
   },
   "file_extension": ".py",
   "mimetype": "text/x-python",
   "name": "python",
   "nbconvert_exporter": "python",
   "pygments_lexer": "ipython3",
   "version": "3.9.7"
  }
 },
 "nbformat": 4,
 "nbformat_minor": 5
}
